{
 "cells": [
  {
   "cell_type": "code",
   "execution_count": null,
   "id": "11a1072d-6a13-4d0a-ad34-b8d9ad9e1d1f",
   "metadata": {},
   "outputs": [],
   "source": [
    "#2차원 리스트 90도 회전\n",
    "def rotate_a_matrix_by_90_degree(a):\n",
    "    n = len(a)    #행 길이 계산\n",
    "    m = len(a[0]) #열 길이 계산\n",
    "    result = [[0] * n for _ in range(m)] #결과 리스트\n",
    "    for i in range(n):\n",
    "        for j in range(m):\n",
    "            result[j][n - i - 1] = a[i][j]\n",
    "    return result"
   ]
  }
 ],
 "metadata": {
  "kernelspec": {
   "display_name": "Python 3 (ipykernel)",
   "language": "python",
   "name": "python3"
  },
  "language_info": {
   "codemirror_mode": {
    "name": "ipython",
    "version": 3
   },
   "file_extension": ".py",
   "mimetype": "text/x-python",
   "name": "python",
   "nbconvert_exporter": "python",
   "pygments_lexer": "ipython3",
   "version": "3.13.2"
  }
 },
 "nbformat": 4,
 "nbformat_minor": 5
}
